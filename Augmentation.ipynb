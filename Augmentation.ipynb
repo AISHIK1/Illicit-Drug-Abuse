{
 "cells": [
  {
   "cell_type": "code",
   "execution_count": 3,
   "metadata": {},
   "outputs": [],
   "source": [
    "import albumentations as A\n",
    "import cv2\n",
    "import numpy as np\n",
    "import  pandas as pd\n",
    "import os\n",
    "from pathlib import Path\n"
   ]
  },
  {
   "cell_type": "code",
   "execution_count": 26,
   "metadata": {},
   "outputs": [],
   "source": [
    "\n",
    "# Declare an augmentation pipeline\n",
    "\n",
    "\n",
    "transform = A.Compose(\n",
    "    [A.CLAHE(),\n",
    "     A.RandomRotate90(),\n",
    "     A.Transpose(),\n",
    "     A.ShiftScaleRotate(shift_limit=0.0625, scale_limit=0.50,\n",
    "                        rotate_limit=45, p=.75),\n",
    "     A.Blur(blur_limit=3),\n",
    "     A.OpticalDistortion(),\n",
    "     A.GridDistortion(),\n",
    "     A.HueSaturationValue()])\n",
    "\n",
    "\n",
    "# transform = A.Compose([\n",
    "#     A.RandomCrop(width=170, height=240),\n",
    "#     A.HorizontalFlip(p=0.5),\n",
    "#     A.RandomBrightnessContrast(p=-0.2),\n",
    "# ])\n",
    "\n",
    "# Read an image with OpenCV and convert it to the RGB colorspace\n",
    "image = cv2.imread(\"14-2.jpg\",0)\n",
    "\n",
    "# Augment an image\n",
    "transformed = transform(image=image)\n",
    "transformed_image = transformed[\"image\"]"
   ]
  },
  {
   "cell_type": "code",
   "execution_count": 28,
   "metadata": {},
   "outputs": [
    {
     "data": {
      "text/plain": [
       "True"
      ]
     },
     "execution_count": 28,
     "metadata": {},
     "output_type": "execute_result"
    }
   ],
   "source": [
    "cv2.imwrite(\"Aug.jpg\",transformed_image)"
   ]
  },
  {
   "cell_type": "code",
   "execution_count": 10,
   "metadata": {},
   "outputs": [],
   "source": [
    "def augment(directory):\n",
    "    transform = A.Compose(\n",
    "    [A.CLAHE(),\n",
    "     A.RandomRotate90(),\n",
    "     A.Transpose(),\n",
    "     A.ShiftScaleRotate(shift_limit=0.0625, scale_limit=0.50,\n",
    "                        rotate_limit=45, p=.75),\n",
    "     A.Blur(blur_limit=3),\n",
    "     A.OpticalDistortion(),\n",
    "     A.GridDistortion(),\n",
    "     A.HueSaturationValue()])\n",
    "    #current_dir = Path('Dataset/Drug Abuse/')\n",
    "    entries= os.listdir(directory)\n",
    "    i=0\n",
    "    for ent in entries:\n",
    "        if ent != '.DS_Store':\n",
    "            i=i+1\n",
    "            if(i%3==0):\n",
    "                image=cv2.imread(os.getcwd()+\"/\"+directory+ent)\n",
    "                transformed = transform(image=image)\n",
    "                transformed_image = transformed[\"image\"]\n",
    "                path=os.getcwd()+'/'+directory\n",
    "                image_name='NewImage'+str(i)+'.jpg'\n",
    "                #print(os.path.join(path , image_name))\n",
    "                cv2.imwrite(os.path.join(path , image_name), transformed_image)\n",
    "                #cv2.imwrite(image_name,transformed_image)"
   ]
  },
  {
   "cell_type": "code",
   "execution_count": 11,
   "metadata": {},
   "outputs": [],
   "source": [
    "augment('Dataset/Drug Abuse/')"
   ]
  },
  {
   "cell_type": "code",
   "execution_count": 12,
   "metadata": {},
   "outputs": [],
   "source": [
    "augment('Dataset/Non Drug Abuse/')"
   ]
  }
 ],
 "metadata": {
  "interpreter": {
   "hash": "aee8b7b246df8f9039afb4144a1f6fd8d2ca17a180786b69acc140d282b71a49"
  },
  "kernelspec": {
   "display_name": "Python 3.9.7 64-bit",
   "language": "python",
   "name": "python3"
  },
  "language_info": {
   "codemirror_mode": {
    "name": "ipython",
    "version": 3
   },
   "file_extension": ".py",
   "mimetype": "text/x-python",
   "name": "python",
   "nbconvert_exporter": "python",
   "pygments_lexer": "ipython3",
   "version": "3.9.7"
  },
  "orig_nbformat": 4
 },
 "nbformat": 4,
 "nbformat_minor": 2
}
